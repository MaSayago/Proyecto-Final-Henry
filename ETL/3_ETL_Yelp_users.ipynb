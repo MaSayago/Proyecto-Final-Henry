{
 "cells": [
  {
   "attachments": {},
   "cell_type": "markdown",
   "metadata": {},
   "source": [
    "pip install fastparquet"
   ]
  },
  {
   "cell_type": "code",
   "execution_count": 1,
   "metadata": {},
   "outputs": [],
   "source": [
    "import pandas as pd\n",
    "import fastparquet as fp\n",
    "import json\n",
    "import pyarrow as pa\n",
    "import pyarrow.parquet as pq"
   ]
  },
  {
   "cell_type": "code",
   "execution_count": 6,
   "metadata": {},
   "outputs": [],
   "source": [
    "parquet_file = 'data/data filtrada/Yelp Filtrado/parquet/review-001_filtered.parquet'\n",
    "filtered_file = 'data/Yelp/user-002.parquet'\n",
    "filtered_file_new = 'data/data filtrada/Yelp Filtrado/parquet/user-002_filtered.parquet' #cambiar a donde se va a guardar y el nombre del archivo\n",
    "\n",
    "# Load the Parquet files as DataFrames using fastparquet\n",
    "parquet_df = fp.ParquetFile(parquet_file).to_pandas()\n",
    "filtered_df = fp.ParquetFile(filtered_file).to_pandas()\n",
    "\n",
    "# Get the list of user_id values to filter\n",
    "filtered_user_ids = parquet_df['user_id'].tolist()\n",
    "\n",
    "# Filter the filtered DataFrame based on the user_id values\n",
    "filtered_df = filtered_df[filtered_df['user_id'].isin(filtered_user_ids)]\n",
    "\n",
    "# Save the filtered DataFrame as a new Parquet file\n",
    "filtered_df.to_parquet(filtered_file_new, engine='fastparquet')"
   ]
  },
  {
   "attachments": {},
   "cell_type": "markdown",
   "metadata": {},
   "source": [
    "# para guardar en formato parquet usando un json\n",
    "parquet_file = 'data/Yelp/user-002.parquet'\n",
    "json_file = 'data/Yelp Filtrado/reviews-001_filtered.json'\n",
    "filtered_file = 'data/Yelp Filtrado/user-002_filtered.json'\n",
    "\n",
    "\n",
    "#Leer el archivo JSON línea por línea y cargar cada objeto JSON\n",
    "data = []\n",
    "with open(json_file, 'r') as f:\n",
    "    for line in f:\n",
    "        json_data = json.loads(line)\n",
    "        data.append(json_data)\n",
    "\n",
    "#Obtener la lista de user_id a filtrar\n",
    "filtered_user_ids = [review['user_id'] for review in data]\n",
    "\n",
    "#Cargar el archivo Parquet utilizando fastparquet\n",
    "df = fp.ParquetFile(parquet_file).to_pandas()\n",
    "\n",
    "#Filtrar el DataFrame en base a los user_id\n",
    "filtered_df = df[df['user_id'].isin(filtered_user_ids)]\n",
    "\n",
    "#Convertir el DataFrame filtrado a un diccionario de Python\n",
    "filtered_data = filtered_df.to_dict(orient='records')\n",
    "\n",
    "#Guardar el DataFrame filtrado como un archivo Parquet\n",
    "filtered_table = pa.Table.from_pandas(filtered_df)\n",
    "pq.write_table(filtered_table, filtered_file)"
   ]
  },
  {
   "attachments": {},
   "cell_type": "markdown",
   "metadata": {},
   "source": [
    "# guardar en formato json usando json\n",
    "parquet_file = 'data/Yelp/user-002.parquet'\n",
    "json_file = 'data/Yelp Filtrado/reviews-001_filtered.json'\n",
    "filtered_file = 'data/Yelp Filtrado/user-002_filtered.json'\n",
    "\n",
    "\n",
    "#Leer el archivo JSON línea por línea y cargar cada objeto JSON\n",
    "data = []\n",
    "with open(json_file, 'r') as f:\n",
    "    for line in f:\n",
    "        json_data = json.loads(line)\n",
    "        data.append(json_data)\n",
    "\n",
    "#Obtener la lista de user_id a filtrar\n",
    "filtered_user_ids = [review['user_id'] for review in data]\n",
    "\n",
    "#Cargar el archivo Parquet utilizando fastparquet\n",
    "df = fp.ParquetFile(parquet_file).to_pandas()\n",
    "\n",
    "#Filtrar el DataFrame en base a los user_id\n",
    "filtered_df = df[df['user_id'].isin(filtered_user_ids)]\n",
    "\n",
    "#Convertir el DataFrame filtrado a un diccionario de Python\n",
    "filtered_data = filtered_df.to_dict(orient='records')\n",
    "\n",
    "#uardar el diccionario como un archivo JSON\n",
    "with open(filtered_file, 'w') as f:\n",
    "    json.dump(filtered_data, f)"
   ]
  }
 ],
 "metadata": {
  "kernelspec": {
   "display_name": "Python 3",
   "language": "python",
   "name": "python3"
  },
  "language_info": {
   "codemirror_mode": {
    "name": "ipython",
    "version": 3
   },
   "file_extension": ".py",
   "mimetype": "text/x-python",
   "name": "python",
   "nbconvert_exporter": "python",
   "pygments_lexer": "ipython3",
   "version": "3.11.1"
  },
  "orig_nbformat": 4
 },
 "nbformat": 4,
 "nbformat_minor": 2
}
