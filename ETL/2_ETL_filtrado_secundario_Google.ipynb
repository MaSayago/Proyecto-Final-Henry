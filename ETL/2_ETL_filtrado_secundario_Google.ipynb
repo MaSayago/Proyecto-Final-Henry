{
 "cells": [
  {
   "cell_type": "code",
   "execution_count": 1,
   "metadata": {},
   "outputs": [],
   "source": [
    "import json\n",
    "import pandas as pd\n",
    "import pyarrow as pa\n",
    "import pyarrow.parquet as pq"
   ]
  },
  {
   "cell_type": "code",
   "execution_count": null,
   "metadata": {},
   "outputs": [],
   "source": [
    "\n",
    "# Ruta del archivo Parquet\n",
    "parquet_file_path = 'data/data filtrada/Google Maps filtrado/resultados.parquet'\n",
    "\n",
    "# Leer el archivo Parquet y convertirlo en un DataFrame de pandas\n",
    "table = pq.read_table(parquet_file_path)\n",
    "df = table.to_pandas()\n",
    "\n",
    "# Lista para almacenar las categorías únicas\n",
    "categories = set()\n",
    "\n",
    "# Iterar sobre los objetos en el DataFrame\n",
    "for _, row in df.iterrows():\n",
    "    if 'category' in row:\n",
    "        # Obtener la lista de categorías del objeto\n",
    "        category_list = row['category']\n",
    "\n",
    "        # Agregar cada categoría a la lista de categorías únicas\n",
    "        categories.update(category_list)\n",
    "\n",
    "# Mostrar las categorías únicas\n",
    "print(\"Categorías encontradas:\")\n",
    "for category in categories:\n",
    "    print(category)"
   ]
  },
  {
   "attachments": {},
   "cell_type": "markdown",
   "metadata": {},
   "source": [
    "# Load the single-line list JSON as a string\n",
    "with open('data//data filtrada//Google Maps filtrado//resultados.json') as file:\n",
    "    jsontest = file.read()\n",
    "    # Cargar el JSON\n",
    "data = json.loads(jsontest)\n",
    "\n",
    "# Lista para almacenar las categorías únicas\n",
    "categories = set()\n",
    "\n",
    "# Iterar sobre los objetos en el JSON\n",
    "for obj in data:\n",
    "    if 'category' in obj:\n",
    "        # Obtener la lista de categorías del objeto\n",
    "        category_list = obj['category']\n",
    "        \n",
    "        # Agregar cada categoría a la lista de categorías únicas\n",
    "        categories.update(category_list)\n",
    "\n",
    "# Mostrar las categorías únicas\n",
    "print(\"Categorías encontradas:\")\n",
    "for category in categories:\n",
    "    print(category)"
   ]
  },
  {
   "cell_type": "code",
   "execution_count": 5,
   "metadata": {},
   "outputs": [],
   "source": [
    "# Filtrar y eliminar objetos con categorías no deseadas\n",
    "filtered_data1 = [item for item in df if 'Barber shop' not in item.get('category', [])]"
   ]
  },
  {
   "cell_type": "code",
   "execution_count": 6,
   "metadata": {},
   "outputs": [],
   "source": [
    "# Filtrar y eliminar objetos con categorías no deseadas\n",
    "filtered_data2 = [item for item in filtered_data1 if 'Eyebrow bar' not in item.get('category', [])]"
   ]
  },
  {
   "cell_type": "code",
   "execution_count": 7,
   "metadata": {},
   "outputs": [],
   "source": [
    "# Filtrar y eliminar objetos con categorías no deseadas\n",
    "filtered_data3 = [item for item in filtered_data2 if 'Barber supply store' not in item.get('category', [])]"
   ]
  },
  {
   "cell_type": "code",
   "execution_count": 8,
   "metadata": {},
   "outputs": [],
   "source": [
    "# Filtrar y eliminar objetos con categorías no deseadas\n",
    "filtered_data4 = [item for item in filtered_data3 if 'Barrister' not in item.get('category', [])]"
   ]
  },
  {
   "cell_type": "code",
   "execution_count": 9,
   "metadata": {},
   "outputs": [],
   "source": [
    "# Filtrar y eliminar objetos con categorías no deseadas\n",
    "filtered_data5 = [item for item in filtered_data4 if 'Barbecue restaurant' not in item.get('category', [])]"
   ]
  },
  {
   "cell_type": "code",
   "execution_count": 10,
   "metadata": {},
   "outputs": [],
   "source": [
    "# Filtrar y eliminar objetos con categorías no deseadas\n",
    "filtered_data6 = [item for item in filtered_data5 if 'Bark supplier' not in item.get('category', [])]"
   ]
  },
  {
   "cell_type": "code",
   "execution_count": 11,
   "metadata": {},
   "outputs": [],
   "source": [
    "# Filtrar y eliminar objetos con categorías no deseadas\n",
    "filtered_data7 = [item for item in filtered_data6 if 'Bar restaurant furniture store' not in item.get('category', [])]"
   ]
  },
  {
   "cell_type": "code",
   "execution_count": 12,
   "metadata": {},
   "outputs": [],
   "source": [
    "# Filtrar y eliminar objetos con categorías no deseadas\n",
    "filtered_data8 = [item for item in filtered_data7 if 'Bar stool supplier' not in item.get('category', [])]"
   ]
  },
  {
   "cell_type": "code",
   "execution_count": 13,
   "metadata": {},
   "outputs": [],
   "source": [
    "# Filtrar y eliminar objetos con categorías no deseadas\n",
    "filtered_data9 = [item for item in filtered_data8 if 'Subaru dealer' not in item.get('category', [])]"
   ]
  },
  {
   "cell_type": "code",
   "execution_count": 14,
   "metadata": {},
   "outputs": [
    {
     "data": {
      "text/plain": [
       "'   \\n    IMPORTANTE: \\n                GENERA ENTRADAS DUPLICADAS, \\n                ASI QUE SI LO CORRES UNA VEZ, \\n                COMENTALO Y CAMBIA EL CODIGO DEL \\n                FINAL AL OTRO CODIGO DE GUARDADO DE JSON\\n'"
      ]
     },
     "execution_count": 14,
     "metadata": {},
     "output_type": "execute_result"
    }
   ],
   "source": [
    "# Filtrar y eliminar objetos con la categoría \"Cabaret club\" pero no aquellos con \"Bar\" en la categoría\n",
    "filtered_data10 = [item for item in filtered_data9 if 'Cabaret club' not in item.get('category', []) or any('Bar' in category for category in item.get('category', []))]\n",
    "\n",
    "'''   \n",
    "    IMPORTANTE: \n",
    "                GENERA ENTRADAS DUPLICADAS, \n",
    "                ASI QUE SI LO CORRES UNA VEZ, \n",
    "                COMENTALO Y CAMBIA EL CODIGO DEL \n",
    "                FINAL AL OTRO CODIGO DE GUARDADO DE JSON\n",
    "'''"
   ]
  },
  {
   "cell_type": "code",
   "execution_count": 15,
   "metadata": {},
   "outputs": [
    {
     "data": {
      "text/plain": [
       "' \\n    CAMBIAR FILTEREDDATA10 A FILITEREDDATA9 \\n    PARA EVITAR PROBLEMAS CON EL CODIGO DE ARRIBA SI LO COMENTAS\\n\\n'"
      ]
     },
     "execution_count": 15,
     "metadata": {},
     "output_type": "execute_result"
    }
   ],
   "source": [
    "# Filter and remove objects with unwanted categories\n",
    "filtered_data11 = [item for item in filtered_data10 if 'Bariatric surgeon' not in item.get('category', [])] \n",
    "\n",
    "''' \n",
    "    CAMBIAR FILTEREDDATA10 A FILITEREDDATA9 \n",
    "    PARA EVITAR PROBLEMAS CON EL CODIGO DE ARRIBA SI LO COMENTAS\n",
    "\n",
    "'''\n"
   ]
  },
  {
   "cell_type": "code",
   "execution_count": 16,
   "metadata": {},
   "outputs": [],
   "source": [
    "# Filtra y elimina objetos con categorías no deseadas\n",
    "filtered_data12 = [item for item in filtered_data11 if 'Barber school' not in item.get('category', [])]"
   ]
  },
  {
   "cell_type": "code",
   "execution_count": 17,
   "metadata": {},
   "outputs": [],
   "source": [
    "# Filtra y elimina objetos con categorías no deseadas\n",
    "filtered_data13 = [item for item in filtered_data12 if 'Military barracks' not in item.get('category', [])]"
   ]
  },
  {
   "cell_type": "code",
   "execution_count": 18,
   "metadata": {},
   "outputs": [],
   "source": [
    "# Filtra y elimina objetos con categorías no deseadas\n",
    "filtered_data14 = [item for item in filtered_data13 if 'Barrel supplier' not in item.get('category', [])]"
   ]
  },
  {
   "cell_type": "code",
   "execution_count": 19,
   "metadata": {},
   "outputs": [],
   "source": [
    "# Filtra y elimina objetos con categorías no deseadas\n",
    "filtered_data15 = [item for item in filtered_data14 if 'Barbecue area' not in item.get('category', [])]"
   ]
  },
  {
   "cell_type": "code",
   "execution_count": 20,
   "metadata": {},
   "outputs": [],
   "source": [
    "# Filtra y elimina objetos con categorías no deseadas\n",
    "filtered_data16 = [item for item in filtered_data15 if 'Army barracks' not in item.get('category', [])]"
   ]
  },
  {
   "cell_type": "code",
   "execution_count": 21,
   "metadata": {},
   "outputs": [],
   "source": [
    "# Filtra y elimina objetos con categorías no deseadas\n",
    "filtered_data17 = [item for item in filtered_data16 if 'Barn' not in item.get('category', [])]"
   ]
  },
  {
   "cell_type": "code",
   "execution_count": 22,
   "metadata": {},
   "outputs": [],
   "source": [
    "# Filtra y elimina objetos con categorías no deseadas\n",
    "filtered_data18 = [item for item in filtered_data17 if 'Hyperbaric medicine physician' not in item.get('category', [])]"
   ]
  },
  {
   "cell_type": "code",
   "execution_count": 23,
   "metadata": {},
   "outputs": [],
   "source": [
    "# Filtra y elimina objetos con categorías no deseadas\n",
    "filtered_data19 = [item for item in filtered_data18 if 'Bartending school' not in item.get('category', [])]"
   ]
  },
  {
   "cell_type": "code",
   "execution_count": 24,
   "metadata": {},
   "outputs": [],
   "source": [
    "# Filtra y elimina objetos con categorías no deseadas\n",
    "filtered_data20 = [item for item in filtered_data19 if 'Offal barbecue restaurant' not in item.get('category', [])]"
   ]
  },
  {
   "cell_type": "code",
   "execution_count": 25,
   "metadata": {},
   "outputs": [],
   "source": [
    "# Filtra y elimina objetos con categorías no deseadas\n",
    "filtered_data21 = [item for item in filtered_data20 if 'Korean barbecue restaurant' not in item.get('category', [])]"
   ]
  },
  {
   "cell_type": "code",
   "execution_count": 26,
   "metadata": {},
   "outputs": [],
   "source": [
    "# Filtra y elimina objetos con categorías no deseadas\n",
    "filtered_data22 = [item for item in filtered_data21 if 'Mongolian barbecue restaurant' not in item.get('category', [])]"
   ]
  },
  {
   "cell_type": "code",
   "execution_count": 27,
   "metadata": {},
   "outputs": [],
   "source": [
    "# Filtra y elimina objetos con categorías no deseadas\n",
    "filtered_data23 = [item for item in filtered_data22 if 'Mutton barbecue restaurant' not in item.get('category', [])]"
   ]
  },
  {
   "cell_type": "code",
   "execution_count": 28,
   "metadata": {},
   "outputs": [],
   "source": [
    "# Filtrar y eliminar objetos con categorías no deseadas\n",
    "filtered_data24 = [item for item in filtered_data23 if 'Bar PMU' not in item.get('category', [])]"
   ]
  },
  {
   "cell_type": "code",
   "execution_count": 29,
   "metadata": {},
   "outputs": [],
   "source": [
    "# Filtra y elimina objetos con categorías no deseadas\n",
    "filtered_data25 = [item for item in filtered_data24 if 'Snack bar' not in item.get('category', [])]"
   ]
  },
  {
   "cell_type": "code",
   "execution_count": 30,
   "metadata": {},
   "outputs": [],
   "source": [
    "# Filtra y elimina objetos con categorías no deseadas\n",
    "filtered_data26 = [item for item in filtered_data25 if 'Espresso bar' not in item.get('category', [])]"
   ]
  },
  {
   "cell_type": "code",
   "execution_count": 31,
   "metadata": {},
   "outputs": [],
   "source": [
    "# Crear una lista para almacenar artículos únicos\n",
    "unique_data = []\n",
    "# Cree un conjunto para realizar un seguimiento de gmap_id únicos\n",
    "unique_gmap_ids = set()\n",
    "\n",
    "# Filtrar duplicados según gmap_id\n",
    "for item in filtered_data24:\n",
    "    gmap_id = item.get('gmap_id')\n",
    "    if gmap_id not in unique_gmap_ids:\n",
    "        unique_gmap_ids.add(gmap_id)\n",
    "        unique_data.append(item)\n",
    "\n",
    "# Convierta los datos únicos en un marco de datos de pandas\n",
    "df = pd.DataFrame(unique_data)\n",
    "\n",
    "# Convierta el marco de datos de pandas en una tabla PyArrow\n",
    "table = pa.Table.from_pandas(df)\n",
    "\n",
    "# Guarde los datos únicos como un archivo Parquet\n",
    "pq.write_table(table, 'resultados final.parquet')\n"
   ]
  },
  {
   "attachments": {},
   "cell_type": "markdown",
   "metadata": {},
   "source": [
    "# Guarde los datos filtrados en un archivo JSON\n",
    "with open('filtered_file.json', 'w') as file:\n",
    "    json.dump(filtered_data24, file, indent= 1)"
   ]
  }
 ],
 "metadata": {
  "kernelspec": {
   "display_name": "Python 3",
   "language": "python",
   "name": "python3"
  },
  "language_info": {
   "codemirror_mode": {
    "name": "ipython",
    "version": 3
   },
   "file_extension": ".py",
   "mimetype": "text/x-python",
   "name": "python",
   "nbconvert_exporter": "python",
   "pygments_lexer": "ipython3",
   "version": "3.11.1"
  },
  "orig_nbformat": 4
 },
 "nbformat": 4,
 "nbformat_minor": 2
}
