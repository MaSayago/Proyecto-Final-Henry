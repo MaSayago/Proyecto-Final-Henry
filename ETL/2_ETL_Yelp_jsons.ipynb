{
 "cells": [
  {
   "cell_type": "code",
   "execution_count": 2,
   "metadata": {},
   "outputs": [],
   "source": [
    "import os\n",
    "import pandas as pd\n",
    "import json\n",
    "import pyarrow as pa\n",
    "import pyarrow.parquet as pq"
   ]
  },
  {
   "cell_type": "code",
   "execution_count": 3,
   "metadata": {},
   "outputs": [],
   "source": [
    "\n",
    "# Ruta del archivo Parquet\n",
    "parquet_file_path = 'data/data filtrada/Yelp Filtrado/parquet/Business_Filtered_Yelp.parquet'\n",
    "\n",
    "# Leer el archivo Parquet y convertirlo en un DataFrame de pandas\n",
    "table = pq.read_table(parquet_file_path)\n",
    "df = table.to_pandas()"
   ]
  },
  {
   "cell_type": "code",
   "execution_count": null,
   "metadata": {},
   "outputs": [],
   "source": [
    "# Crear una carpeta para almacenar los archivos filtrados\n",
    "output_folder = 'json-yelp-filtrados'\n",
    "os.makedirs(output_folder, exist_ok=True)"
   ]
  },
  {
   "cell_type": "code",
   "execution_count": 4,
   "metadata": {},
   "outputs": [],
   "source": [
    "#USAR SOLO PARA LOS JSON DE LA CARPETA\n",
    "\n",
    "reviews_folder = \"data//Yelp\"\n",
    "filtered_folder = 'json-yelp-filtrados'"
   ]
  },
  {
   "cell_type": "code",
   "execution_count": 5,
   "metadata": {},
   "outputs": [],
   "source": [
    "\n",
    "# Crear una lista de los business_id filtrados\n",
    "business_ids = df['business_id'].tolist()\n",
    "\n",
    "# Obtener la lista de archivos .json en el directorio reviews_folder\n",
    "file_list = [filename for filename in os.listdir(reviews_folder) if filename.endswith(\".json\")]\n",
    "\n",
    "# Iterar a través de los archivos .json en reviews_folder\n",
    "for filename in file_list:\n",
    "    file_path = os.path.join(reviews_folder, filename)\n",
    "    # Resto del código para procesar el archivo\n",
    "    data_folder = []\n",
    "    with open(file_path, 'r', encoding='utf-8') as file:\n",
    "        for line in file:\n",
    "            data_folder.append(json.loads(line))\n",
    "\n",
    "    df_folder = pd.DataFrame(data_folder)\n",
    "\n",
    "    # Paso 4: Filtrar el DataFrame utilizando los business_id\n",
    "    filtered_reviews = df_folder[df_folder['business_id'].isin(business_ids)]\n",
    "\n",
    "    # Comprobar si hay datos filtrados en el archivo\n",
    "    if not filtered_reviews.empty:\n",
    "        # Guardar el DataFrame filtrado como un nuevo archivo Parquet\n",
    "        filtered_file_path = os.path.join(filtered_folder, filename.replace(\".json\", \"_filtered.parquet\"))\n",
    "        table = pa.Table.from_pandas(filtered_reviews)\n",
    "        pq.write_table(table, filtered_file_path)"
   ]
  },
  {
   "attachments": {},
   "cell_type": "markdown",
   "metadata": {},
   "source": [
    "#PARA TRABAJAR CON JSON\n",
    "\n",
    "df_json_path = 'data//Yelp Filtrado//Business_Filtered_Yelp.json'\n",
    "\n",
    "\n",
    "# Crear una lista de los business_id filtrados\n",
    "business_ids = []\n",
    "with open(df_json_path, 'r', encoding='utf-8') as file:\n",
    "    for line in file:\n",
    "        data_business = json.loads(line)\n",
    "        business_ids.append(data_business['business_id'])\n",
    "\n",
    "# Obtener la lista de archivos .json en el directorio reviews_folder\n",
    "file_list = [filename for filename in os.listdir(reviews_folder) if filename.endswith(\".json\")]\n",
    "\n",
    "# Iterar a través de los archivos .json en reviews_folder\n",
    "for filename in file_list:\n",
    "    file_path = os.path.join(reviews_folder, filename)\n",
    "    # Resto del código para procesar el archivo\n",
    "    data_folder = []\n",
    "    with open(file_path, 'r', encoding='utf-8') as file:\n",
    "        for line in file:\n",
    "            data_folder.append(json.loads(line))\n",
    "\n",
    "    df_folder = pd.DataFrame(data_folder)\n",
    "\n",
    "    # Paso 4: Filtrar el DataFrame utilizando los business_id\n",
    "    filtered_reviews = df_folder[df_folder['business_id'].isin(business_ids)]\n",
    "\n",
    "    # Comprobar si hay datos filtrados en el archivo\n",
    "    if not filtered_reviews.empty:\n",
    "        # Guardar el DataFrame filtrado como un nuevo archivo JSON\n",
    "        filtered_file_path = os.path.join(filtered_folder, filename.replace(\".json\", \"_filtered.json\"))\n",
    "        filtered_reviews.to_json(filtered_file_path, orient='records', lines=True)"
   ]
  },
  {
   "attachments": {},
   "cell_type": "markdown",
   "metadata": {},
   "source": [
    "#SOLAMENTE PARA REVIEWS\n",
    "df_json_path = 'data//Yelp Filtrado//Business_Filtered_Yelp.json'\n",
    "reviews_folder = \"data//Yelp//review-001.json\"\n",
    "filtered_folder = \"reviews-filtrados/\"\n",
    "\n",
    "# Crear una lista de los business_id filtrados\n",
    "business_ids = []\n",
    "with open(df_json_path, 'r', encoding='utf-8-sig') as file:\n",
    "    for line in file:\n",
    "        data_business = json.loads(line)\n",
    "        business_ids.append(data_business['business_id'])\n",
    "\n",
    "# Resto del código para procesar el archivo\n",
    "data_folder = []\n",
    "with open(reviews_folder, 'r', encoding='utf-8-sig') as file:\n",
    "    for line in file:\n",
    "        data_folder.append(json.loads(line))\n",
    "\n",
    "df_folder = pd.DataFrame(data_folder)\n",
    "\n",
    "# Paso 4: Filtrar el DataFrame utilizando los business_id\n",
    "filtered_reviews = df_folder[df_folder['business_id'].isin(business_ids)]\n",
    "\n",
    "# Comprobar si hay datos filtrados en el archivo\n",
    "if not filtered_reviews.empty:\n",
    "    # Guardar el DataFrame filtrado como un nuevo archivo JSON\n",
    "    filtered_file_path = os.path.join(filtered_folder, \"reviews-001_filtered.json\")\n",
    "    filtered_reviews.to_json(filtered_file_path, orient='records', lines=True)"
   ]
  }
 ],
 "metadata": {
  "kernelspec": {
   "display_name": "Python 3",
   "language": "python",
   "name": "python3"
  },
  "language_info": {
   "codemirror_mode": {
    "name": "ipython",
    "version": 3
   },
   "file_extension": ".py",
   "mimetype": "text/x-python",
   "name": "python",
   "nbconvert_exporter": "python",
   "pygments_lexer": "ipython3",
   "version": "3.11.1"
  },
  "orig_nbformat": 4
 },
 "nbformat": 4,
 "nbformat_minor": 2
}
