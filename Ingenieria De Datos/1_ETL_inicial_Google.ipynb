{
 "cells": [
  {
   "cell_type": "code",
   "execution_count": 1,
   "metadata": {},
   "outputs": [],
   "source": [
    "import re\n",
    "import json\n",
    "import os\n",
    "import pandas as pd\n",
    "import pyarrow as pa\n",
    "import pyarrow.parquet as pq"
   ]
  },
  {
   "attachments": {},
   "cell_type": "markdown",
   "metadata": {},
   "source": [
    "import os\n",
    "\n",
    "import re\n",
    "\n",
    "import ujson\n",
    "\n",
    "import json\n",
    "\n",
    "import pandas as pd\n",
    "\n",
    "from pathlib import Path\n"
   ]
  },
  {
   "cell_type": "code",
   "execution_count": 2,
   "metadata": {},
   "outputs": [],
   "source": [
    "\n",
    "# Ruta de la carpeta de datos de Google Maps\n",
    "google_maps_folder = 'data/Google Maps/'\n"
   ]
  },
  {
   "cell_type": "code",
   "execution_count": 3,
   "metadata": {},
   "outputs": [],
   "source": [
    "google_maps_categories = []\n",
    "\n",
    "# Cargar las categorías de Google Maps\n",
    "for filename in os.listdir(os.path.join(google_maps_folder, 'metadata-sitios')):\n",
    "    if filename.endswith('.json'):\n",
    "        with open(os.path.join(google_maps_folder, 'metadata-sitios', filename)) as file:\n",
    "            for line in file:\n",
    "                try:\n",
    "                    data = json.loads(line)\n",
    "                    categories = data.get('category')\n",
    "                    if categories:\n",
    "                        google_maps_categories.extend(categories)\n",
    "                except json.JSONDecodeError as e:\n",
    "                    print(f\"Error al cargar el archivo JSON: {filename}\")\n",
    "                    print(e)\n",
    "\n",
    "\n"
   ]
  },
  {
   "cell_type": "code",
   "execution_count": 4,
   "metadata": {},
   "outputs": [],
   "source": [
    "# Obtener los distintos tipos de bares\n",
    "unique_bar_types = set()\n",
    "for category in google_maps_categories:\n",
    "    if re.search(r'\\bbar\\b', category, re.IGNORECASE):\n",
    "        match = re.search(r'\\b(bar)\\b', category, re.IGNORECASE)\n",
    "        if match:\n",
    "            bar_type = category[:match.start()].strip()\n",
    "            unique_bar_types.add(bar_type)"
   ]
  },
  {
   "cell_type": "code",
   "execution_count": 5,
   "metadata": {},
   "outputs": [],
   "source": [
    "# Ruta de la carpeta principal\n",
    "carpeta_principal = 'data/Google Maps'\n",
    "\n",
    "# Ruta de la carpeta de subcarpetas\n",
    "subcarpeta = os.path.join(carpeta_principal, 'metadata-sitios')\n"
   ]
  },
  {
   "cell_type": "code",
   "execution_count": 6,
   "metadata": {},
   "outputs": [],
   "source": [
    "# Lista para almacenar los resultados filtrados\n",
    "resultados = []\n",
    "\n",
    "# Recorrer todos los archivos JSON dentro de la carpeta \"metadata-sitios\"\n",
    "for archivo in os.listdir(subcarpeta):\n",
    "    if archivo.endswith(\".json\"):\n",
    "        # Ruta del archivo JSON actual\n",
    "        ruta_archivo = os.path.join(subcarpeta, archivo)\n",
    "\n",
    "        # Leer el contenido del archivo JSON\n",
    "        with open(ruta_archivo) as f:\n",
    "            contenido_json = f.readlines()\n",
    "\n",
    "        # Cargar cada objeto JSON por separado\n",
    "        for linea in contenido_json:\n",
    "            try:\n",
    "                data = json.loads(linea)\n",
    "            except json.JSONDecodeError as e:\n",
    "                print(f\"Error al cargar el archivo JSON {ruta_archivo}: {e}\")\n",
    "                continue\n",
    "\n",
    "            # Verificar si la categoría \"bares\" está presente en el archivo JSON\n",
    "            categorias = data.get(\"category\", [])\n",
    "            if isinstance(categorias, list) and any(\"bar\" in categoria.lower() for categoria in categorias):\n",
    "                resultados.append(data)\n",
    "\n",
    "# Convertir los resultados a un pandas DataFrame\n",
    "df = pd.DataFrame(resultados)\n",
    "\n",
    "# Convertir el pandas DataFrame a una tabla PyArrow\n",
    "table = pa.Table.from_pandas(df)\n",
    "\n",
    "# Ruta del archivo de salida en formato Parquet\n",
    "ruta_salida = os.path.join(carpeta_principal, \"resultados.parquet\")\n",
    "\n",
    "# Guardar los resultados en el archivo Parquet de salida\n",
    "pq.write_table(table, ruta_salida)"
   ]
  },
  {
   "attachments": {},
   "cell_type": "markdown",
   "metadata": {},
   "source": [
    "\n",
    "# Lista para almacenar los resultados filtrados\n",
    "resultados = []\n",
    "\n",
    "\n",
    "# Recorrer todos los archivos JSON dentro de la carpeta \"metadata-sitios\"\n",
    "for archivo in os.listdir(subcarpeta):\n",
    "    if archivo.endswith(\".json\"):\n",
    "        # Ruta del archivo JSON actual\n",
    "        ruta_archivo = os.path.join(subcarpeta, archivo)\n",
    "        \n",
    "        # Leer el contenido del archivo JSON\n",
    "        with open(ruta_archivo) as f:\n",
    "            contenido_json = f.readlines()\n",
    "        \n",
    "        # Cargar cada objeto JSON por separado\n",
    "        for linea in contenido_json:\n",
    "            try:\n",
    "                data = json.loads(linea)\n",
    "            except json.JSONDecodeError as e:\n",
    "                print(f\"Error al cargar el archivo JSON {ruta_archivo}: {e}\")\n",
    "                continue\n",
    "            \n",
    "            # Verificar si la categoría \"bares\" está presente en el archivo JSON\n",
    "            categorias = data.get(\"category\", [])\n",
    "            if isinstance(categorias, list) and any(\"bar\" in categoria.lower() for categoria in categorias):\n",
    "                resultados.append(data)\n",
    "\n",
    "# Ruta del archivo de salida\n",
    "ruta_salida = os.path.join(carpeta_principal, \"resultados.json\")\n",
    "\n",
    "# Guardar los resultados en el archivo JSON de salida\n",
    "with open(ruta_salida, \"w\") as f:\n",
    "    json.dump(resultados, f)"
   ]
  }
 ],
 "metadata": {
  "kernelspec": {
   "display_name": "Python 3",
   "language": "python",
   "name": "python3"
  },
  "language_info": {
   "codemirror_mode": {
    "name": "ipython",
    "version": 3
   },
   "file_extension": ".py",
   "mimetype": "text/x-python",
   "name": "python",
   "nbconvert_exporter": "python",
   "pygments_lexer": "ipython3",
   "version": "3.11.1"
  },
  "orig_nbformat": 4
 },
 "nbformat": 4,
 "nbformat_minor": 2
}
