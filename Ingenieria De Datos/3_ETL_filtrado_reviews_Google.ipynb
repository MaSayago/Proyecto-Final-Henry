{
 "cells": [
  {
   "cell_type": "code",
   "execution_count": 1,
   "metadata": {},
   "outputs": [],
   "source": [
    "import json\n",
    "import os\n",
    "import pandas as pd\n",
    "import pyarrow as pa\n",
    "import pyarrow.parquet as pq"
   ]
  },
  {
   "attachments": {},
   "cell_type": "markdown",
   "metadata": {},
   "source": [
    "\n",
    "# Paso 1: Leer el archivo json_filtered.json y convertirlo en un DataFrame\n",
    "json_data = []\n",
    "with open('Google Maps//resultadossnackspresso.json', 'r') as json_file:\n",
    "    for line in json_file:\n",
    "        try:\n",
    "            json_obj = json.loads(line)\n",
    "            json_data.append(json_obj)\n",
    "        except json.JSONDecodeError:\n",
    "            # Manejar cualquier línea inválida en el archivo\n",
    "            continue\n"
   ]
  },
  {
   "attachments": {},
   "cell_type": "markdown",
   "metadata": {},
   "source": [
    "# Read the JSON file\n",
    "with open('Google Maps//resultadossnackspresso.json') as f:\n",
    "    data = json.load(f)"
   ]
  },
  {
   "cell_type": "code",
   "execution_count": 2,
   "metadata": {},
   "outputs": [],
   "source": [
    "# Ruta del archivo Parquet filtrado\n",
    "parquet_file_path = 'data/data filtrada/Google Maps filtrado/resultados final.parquet'\n",
    "\n",
    "# Leer el archivo Parquet\n",
    "table = pq.read_table(parquet_file_path)\n",
    "\n",
    "df_filtered = table.to_pandas()"
   ]
  },
  {
   "attachments": {},
   "cell_type": "markdown",
   "metadata": {},
   "source": [
    "\n",
    "df_filtered = pd.DataFrame(data)\n"
   ]
  },
  {
   "cell_type": "code",
   "execution_count": 4,
   "metadata": {},
   "outputs": [],
   "source": [
    "\n",
    "# Crear una carpeta para almacenar los archivos filtrados\n",
    "output_folder = 'reviews-filtrados'\n",
    "os.makedirs(output_folder, exist_ok=True)\n"
   ]
  },
  {
   "cell_type": "code",
   "execution_count": 5,
   "metadata": {},
   "outputs": [],
   "source": [
    "gmap_id = df_filtered[\"gmap_id\"]"
   ]
  },
  {
   "cell_type": "code",
   "execution_count": 7,
   "metadata": {},
   "outputs": [],
   "source": [
    "reviews_folder = \"data/Google Maps/reviews-estados/\"\n",
    "filtered_folder = \"reviews-filtrados/\"\n",
    "\n",
    "# Iterar a través de las carpetas en \"reviews_folder\"\n",
    "for folder_name in os.listdir(reviews_folder):\n",
    "    folder_path = os.path.join(reviews_folder, folder_name)\n",
    "    # Verificar si es una carpeta\n",
    "    if os.path.isdir(folder_path):\n",
    "        # Iterar a través de los archivos .json en la carpeta específica\n",
    "        filtered_data_folder = []\n",
    "        for filename in os.listdir(folder_path):\n",
    "            if filename.endswith(\".json\"):\n",
    "                file_path = os.path.join(folder_path, filename)\n",
    "                # Resto del código para procesar el archivo\n",
    "                data_folder = []\n",
    "                with open(file_path, 'r') as file:\n",
    "                    for line in file:\n",
    "                        data_folder.append(json.loads(line))\n",
    "\n",
    "                df_folder = pd.DataFrame(data_folder)\n",
    "\n",
    "                # Paso 4: Filtrar el DataFrame utilizando los gmap_id\n",
    "                filtered_reviews = df_folder[df_folder['gmap_id'].isin(gmap_id)]\n",
    "\n",
    "                # Agregar los datos filtrados a la lista\n",
    "                if not filtered_reviews.empty:\n",
    "                    filtered_data_folder.append(filtered_reviews)\n",
    "\n",
    "        # Comprobar si hay datos filtrados en la carpeta\n",
    "        if len(filtered_data_folder) > 0:\n",
    "            # Combinar todos los DataFrames filtrados en uno solo\n",
    "            combined_filtered_reviews = pd.concat(filtered_data_folder)\n",
    "\n",
    "            # Guardar el DataFrame combinado como un nuevo archivo Parquet\n",
    "            filtered_file_path = os.path.join(filtered_folder, folder_name + \"_filtered.parquet\")\n",
    "            table = pa.Table.from_pandas(combined_filtered_reviews)\n",
    "            pq.write_table(table, filtered_file_path)"
   ]
  },
  {
   "attachments": {},
   "cell_type": "markdown",
   "metadata": {},
   "source": [
    "#PROBAR EL CODIGO GENERAL\n",
    "\n",
    "## Convertir la lista de objetos JSON en un DataFrame de pandas\n",
    "df_filtered = pd.DataFrame(data)\n",
    "gmap_ids = df_filtered['gmap_id']\n",
    "## Carpeta de reviews específica\n",
    "reviews_folder = \"Google Maps/reviews-estados/review-New_York\"\n",
    "## Paso 2: Iterar a través de los archivos .json en la carpeta específica\n",
    "for filename in os.listdir(reviews_folder):\n",
    "    if filename.endswith(\".json\"):\n",
    "        file_path = os.path.join(reviews_folder, filename)\n",
    "        \n",
    "        data_folder = []\n",
    "        with open(file_path, 'r') as file:\n",
    "            for line in file:\n",
    "                data_folder.append(json.loads(line))\n",
    "        \n",
    "        df_folder = pd.DataFrame(data_folder)\n",
    "        \n",
    "        # Paso 4: Filtrar el DataFrame utilizando los gmap_id\n",
    "        filtered_reviews = df_folder[df_folder['gmap_id'].isin(gmap_id)]\n",
    "        \n",
    "        # Paso 5: Guardar el DataFrame filtrado como un nuevo archivo json\n",
    "        filtered_file_path = os.path.splitext(file_path)[0] + \"_filtered.json\"\n",
    "        filtered_reviews.to_json(filtered_file_path, orient='records')"
   ]
  },
  {
   "attachments": {},
   "cell_type": "markdown",
   "metadata": {},
   "source": [
    "reviews_folder = \"Google Maps/reviews-estados/\"\n",
    "filtered_folder = \"reviews-filtrados/\"\n",
    "\n",
    "# Iterar a través de las carpetas en \"reviews_folder\"\n",
    "for folder_name in os.listdir(reviews_folder):\n",
    "    folder_path = os.path.join(reviews_folder, folder_name)\n",
    "    # Verificar si es una carpeta\n",
    "    if os.path.isdir(folder_path):\n",
    "        # Iterar a través de los archivos .json en la carpeta específica\n",
    "        filtered_data_folder = []\n",
    "        for filename in os.listdir(folder_path):\n",
    "            if filename.endswith(\".json\"):\n",
    "                file_path = os.path.join(folder_path, filename)\n",
    "                # Resto del código para procesar el archivo\n",
    "                data_folder = []\n",
    "                with open(file_path, 'r') as file:\n",
    "                    for line in file:\n",
    "                        data_folder.append(json.loads(line))\n",
    "\n",
    "                df_folder = pd.DataFrame(data_folder)\n",
    "\n",
    "                # Paso 4: Filtrar el DataFrame utilizando los gmap_id\n",
    "                filtered_reviews = df_folder[df_folder['gmap_id'].isin(gmap_id)]\n",
    "\n",
    "                # Agregar los datos filtrados a la lista\n",
    "                if not filtered_reviews.empty:\n",
    "                    filtered_data_folder.append(filtered_reviews)\n",
    "\n",
    "        # Comprobar si hay datos filtrados en la carpeta\n",
    "        if len(filtered_data_folder) > 0:\n",
    "            # Combinar todos los DataFrames filtrados en uno solo\n",
    "            combined_filtered_reviews = pd.concat(filtered_data_folder)\n",
    "\n",
    "            # Guardar el DataFrame combinado como un nuevo archivo JSON\n",
    "            filtered_file_path = os.path.join(filtered_folder, folder_name + \"_filtered.json\")\n",
    "            combined_filtered_reviews.to_json(filtered_file_path, orient='records', lines=True)"
   ]
  }
 ],
 "metadata": {
  "kernelspec": {
   "display_name": "Python 3",
   "language": "python",
   "name": "python3"
  },
  "language_info": {
   "codemirror_mode": {
    "name": "ipython",
    "version": 3
   },
   "file_extension": ".py",
   "mimetype": "text/x-python",
   "name": "python",
   "nbconvert_exporter": "python",
   "pygments_lexer": "ipython3",
   "version": "3.11.1"
  },
  "orig_nbformat": 4
 },
 "nbformat": 4,
 "nbformat_minor": 2
}
