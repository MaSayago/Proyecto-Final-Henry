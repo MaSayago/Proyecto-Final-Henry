{
 "cells": [
  {
   "cell_type": "code",
   "execution_count": 1,
   "metadata": {},
   "outputs": [],
   "source": [
    "import pandas as pd\n",
    "import re\n",
    "import pyarrow as pa\n",
    "import pyarrow.parquet as pq"
   ]
  },
  {
   "cell_type": "code",
   "execution_count": 2,
   "metadata": {},
   "outputs": [],
   "source": [
    "df = pd.read_pickle('data//Yelp//business.pkl')"
   ]
  },
  {
   "cell_type": "code",
   "execution_count": 3,
   "metadata": {},
   "outputs": [],
   "source": [
    "df = df.loc[:, ~df.columns.duplicated()]"
   ]
  },
  {
   "cell_type": "code",
   "execution_count": 4,
   "metadata": {},
   "outputs": [],
   "source": [
    "df_bar = df[df['categories'].str.contains('Bar|bar', na=False)]"
   ]
  },
  {
   "cell_type": "code",
   "execution_count": 5,
   "metadata": {},
   "outputs": [
    {
     "name": "stdout",
     "output_type": "stream",
     "text": [
      "<class 'pandas.core.frame.DataFrame'>\n",
      "Int64Index: 17592 entries, 8 to 150327\n",
      "Data columns (total 14 columns):\n",
      " #   Column        Non-Null Count  Dtype \n",
      "---  ------        --------------  ----- \n",
      " 0   business_id   17592 non-null  object\n",
      " 1   name          17592 non-null  object\n",
      " 2   address       17592 non-null  object\n",
      " 3   city          17592 non-null  object\n",
      " 4   state         17592 non-null  object\n",
      " 5   postal_code   17592 non-null  object\n",
      " 6   latitude      17592 non-null  object\n",
      " 7   longitude     17592 non-null  object\n",
      " 8   stars         17592 non-null  object\n",
      " 9   review_count  17592 non-null  object\n",
      " 10  is_open       17592 non-null  object\n",
      " 11  attributes    17414 non-null  object\n",
      " 12  categories    17592 non-null  object\n",
      " 13  hours         15813 non-null  object\n",
      "dtypes: object(14)\n",
      "memory usage: 2.0+ MB\n"
     ]
    }
   ],
   "source": [
    "df_bar.info()"
   ]
  },
  {
   "cell_type": "code",
   "execution_count": 6,
   "metadata": {},
   "outputs": [],
   "source": [
    "keywords = ['barbers', 'eyebrow', 'barrister', 'barbecue', 'furniture', 'Supplies',\n",
    "            'Military', 'barn', 'hyperbaric', 'bartending','Dentists', 'Barre',\n",
    "            'Bartenders', 'Food Trucks', 'Day Spas', 'Nail Salons', 'Specialty Schools',\n",
    "            'Nail Technicians', 'IV Hydration', 'Animal', 'pet', 'Doctors', 'Hair',\n",
    "            'adult education', 'Smoothies'\n",
    "            ]\n",
    "\n",
    "\n",
    "pattern = re.compile('|'.join(keywords), flags=re.IGNORECASE)\n",
    "\n",
    "df_bar = df_bar[~df_bar['categories'].str.contains(pattern)]"
   ]
  },
  {
   "attachments": {},
   "cell_type": "markdown",
   "metadata": {},
   "source": [
    "#VER CATEGORIAS\n",
    " Split the strings in the 'categories' column by comma (',') and flatten the list\n",
    "categories_list = df_bar['categories'].str.split(',').explode()\n",
    "\n",
    " Count the occurrences of each unique string\n",
    "category_counts = categories_list.value_counts()\n",
    "\n",
    " Save the unique strings and their counts to a text file\n",
    "category_counts.to_csv('category_counts.txt', header=True, sep='\\t')"
   ]
  },
  {
   "cell_type": "code",
   "execution_count": 7,
   "metadata": {},
   "outputs": [],
   "source": [
    "# Filtrar todas las entradas que tengan barbeque que no sean bares tambien.\n",
    "keyword_bbq = r'\\bBarbeque\\b'\n",
    "keyword_bars = r'\\bBars\\b'\n",
    "\n",
    "filtered_df = df_bar[~(df_bar['categories'].str.contains(keyword_bbq, case=False, regex=True) & ~df_bar['categories'].str.contains(keyword_bars, case=False, regex=True))]"
   ]
  },
  {
   "cell_type": "code",
   "execution_count": 8,
   "metadata": {},
   "outputs": [
    {
     "name": "stdout",
     "output_type": "stream",
     "text": [
      "<class 'pandas.core.frame.DataFrame'>\n",
      "Int64Index: 12546 entries, 8 to 150323\n",
      "Data columns (total 14 columns):\n",
      " #   Column        Non-Null Count  Dtype \n",
      "---  ------        --------------  ----- \n",
      " 0   business_id   12546 non-null  object\n",
      " 1   name          12546 non-null  object\n",
      " 2   address       12546 non-null  object\n",
      " 3   city          12546 non-null  object\n",
      " 4   state         12546 non-null  object\n",
      " 5   postal_code   12546 non-null  object\n",
      " 6   latitude      12546 non-null  object\n",
      " 7   longitude     12546 non-null  object\n",
      " 8   stars         12546 non-null  object\n",
      " 9   review_count  12546 non-null  object\n",
      " 10  is_open       12546 non-null  object\n",
      " 11  attributes    12475 non-null  object\n",
      " 12  categories    12546 non-null  object\n",
      " 13  hours         11251 non-null  object\n",
      "dtypes: object(14)\n",
      "memory usage: 1.4+ MB\n"
     ]
    }
   ],
   "source": [
    "filtered_df.info()"
   ]
  },
  {
   "cell_type": "code",
   "execution_count": 9,
   "metadata": {},
   "outputs": [],
   "source": [
    "# Convertir el DataFrame en una tabla PyArrow\n",
    "table = pa.Table.from_pandas(filtered_df)\n",
    "\n",
    "# Ruta del archivo Parquet de salida\n",
    "parquet_file_path = 'Business_Filtered_Yelp.parquet'\n",
    "\n",
    "# Guardar la tabla como un archivo Parquet\n",
    "pq.write_table(table, parquet_file_path)"
   ]
  },
  {
   "attachments": {},
   "cell_type": "markdown",
   "metadata": {},
   "source": [
    "filtered_df.to_json('Business_Filtered_Yelp1.json', orient='records', lines=True)"
   ]
  }
 ],
 "metadata": {
  "kernelspec": {
   "display_name": "Python 3",
   "language": "python",
   "name": "python3"
  },
  "language_info": {
   "codemirror_mode": {
    "name": "ipython",
    "version": 3
   },
   "file_extension": ".py",
   "mimetype": "text/x-python",
   "name": "python",
   "nbconvert_exporter": "python",
   "pygments_lexer": "ipython3",
   "version": "3.11.1"
  },
  "orig_nbformat": 4
 },
 "nbformat": 4,
 "nbformat_minor": 2
}
