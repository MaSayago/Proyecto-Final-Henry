{
 "cells": [
  {
   "cell_type": "code",
   "execution_count": 1,
   "metadata": {},
   "outputs": [],
   "source": [
    "import jsonlines\n",
    "from sklearn.feature_extraction.text import TfidfVectorizer\n",
    "from sklearn.model_selection import train_test_split\n",
    "from sklearn.svm import SVR\n",
    "from sklearn.metrics import mean_squared_error\n",
    "from scipy.sparse import vstack\n",
    "from scipy.sparse import csr_matrix\n",
    "import nltk\n",
    "import numpy as np\n",
    "\n",
    "from nltk.sentiment import SentimentIntensityAnalyzer\n",
    "\n"
   ]
  },
  {
   "attachments": {},
   "cell_type": "markdown",
   "metadata": {},
   "source": [
    "# FOR TESTING, IGNORE\n",
    "def get_gmap_id_by_name(name):\n",
    "    with jsonlines.open('data\\data filtrada\\Google Maps filtrado\\Google Maps json\\strict-filtered-bars.jsonl') as file:\n",
    "        for line in file:\n",
    "            if line['name'] == name:\n",
    "                return line['gmap_id']\n",
    "    return None\n",
    "\n",
    "#Example usage\n",
    "name = \"Chili's Grill & Bar\"\n",
    "gmap_id = get_gmap_id_by_name(name)\n",
    "if gmap_id:\n",
    "    print(f\"The 'gmap_id' for '{name}' is '{gmap_id}'.\")\n",
    "else:\n",
    "    print(f\"No 'gmap_id' found for '{name}'.\")"
   ]
  },
  {
   "cell_type": "code",
   "execution_count": 2,
   "metadata": {},
   "outputs": [
    {
     "data": {
      "text/plain": [
       "\" ///  Hooters  ///  Chili's Grill & Bar  ///  Cheesecake Bistro by Copeland's   /// XTC Cabaret Dallas   \""
      ]
     },
     "execution_count": 2,
     "metadata": {},
     "output_type": "execute_result"
    }
   ],
   "source": [
    "def get_gmap_ids_by_name(name):\n",
    "    gmap_ids = []\n",
    "    with jsonlines.open(r'data/data filtrada/Google Maps filtrado/Google Maps json/strict-filtered-bars.jsonl') as file:\n",
    "        for line in file:\n",
    "            if line['name'] == name:\n",
    "                gmap_ids.append(line['gmap_id'])\n",
    "    return gmap_ids\n",
    "\n",
    "#Example usage\n",
    "gmap_ids = get_gmap_ids_by_name(\"Chili's Grill & Bar\")\n",
    "#name = \"Chili's Grill & Bar\"\n",
    "#gmap_ids = get_gmap_ids_by_name(name)\n",
    "''' ///  Hooters  ///  Chili's Grill & Bar  ///  Cheesecake Bistro by Copeland's   /// XTC Cabaret Dallas   '''"
   ]
  },
  {
   "cell_type": "code",
   "execution_count": 3,
   "metadata": {},
   "outputs": [],
   "source": [
    "def get_reviews_by_gmap_ids(gmap_ids):\n",
    "    reviews_low = []\n",
    "    reviews_high = []\n",
    "    total_rating = 0\n",
    "    count = 0\n",
    "    \n",
    "    with jsonlines.open(r'data/data filtrada/Google Maps filtrado/Google Maps json/google-strict-filtered-reviews.jsonl') as file:\n",
    "        for line in file:\n",
    "            if line['gmap_id'] in gmap_ids:\n",
    "                rating = line['rating']\n",
    "                total_rating += rating\n",
    "                count += 1\n",
    "                \n",
    "                if rating <= 2:\n",
    "                    line['rating_category'] = 0\n",
    "                    reviews_low.append(line)\n",
    "                elif rating >= 4:\n",
    "                    line['rating_category'] = 1\n",
    "                    reviews_high.append(line)\n",
    "    \n",
    "    \n",
    "    return reviews_low, reviews_high"
   ]
  },
  {
   "cell_type": "code",
   "execution_count": 4,
   "metadata": {},
   "outputs": [],
   "source": [
    "# Call the function and retrieve the filtered reviews and average score\n",
    "filtered_reviews_low, filtered_reviews_high = get_reviews_by_gmap_ids(gmap_ids)\n"
   ]
  },
  {
   "cell_type": "code",
   "execution_count": 5,
   "metadata": {},
   "outputs": [],
   "source": [
    "def create_tfidf_matrix(reviews_low, reviews_high):\n",
    "    # Combine the processed text from reviews_low and reviews_high\n",
    "    all_reviews_text = [review['processed_text'] for review in reviews_low] + [review['processed_text'] for review in reviews_high]\n",
    "\n",
    "    # Create the TF-IDF vectorizer\n",
    "    vectorizer = TfidfVectorizer()\n",
    "\n",
    "    # Fit the vectorizer on the combined processed text\n",
    "    vectorizer.fit(all_reviews_text)\n",
    "\n",
    "    # Transform the processed text of reviews_low using the fitted vectorizer\n",
    "    tfidf_matrix_low = vectorizer.transform([review['processed_text'] for review in reviews_low])\n",
    "\n",
    "    # Transform the processed text of reviews_high using the fitted vectorizer\n",
    "    tfidf_matrix_high = vectorizer.transform([review['processed_text'] for review in reviews_high])\n",
    "\n",
    "    return tfidf_matrix_low, tfidf_matrix_high\n",
    "\n",
    "# Usage example\n",
    "\n",
    "reviews_low, reviews_high = get_reviews_by_gmap_ids(gmap_ids)\n",
    "tfidf_matrix_low, tfidf_matrix_high = create_tfidf_matrix(reviews_low, reviews_high)\n",
    "\n",
    "#tfidf_matrix_low, tfidf_matrix_high = create_tfidf_matrix(reviews_low, reviews_high)"
   ]
  },
  {
   "attachments": {},
   "cell_type": "markdown",
   "metadata": {},
   "source": [
    "# USANDO SVM INSTEAD"
   ]
  },
  {
   "cell_type": "code",
   "execution_count": 6,
   "metadata": {},
   "outputs": [
    {
     "name": "stdout",
     "output_type": "stream",
     "text": [
      "Root Mean Squared Error (RMSE): 0.24001852100357135\n"
     ]
    }
   ],
   "source": [
    "## TURN BACK TO PYTHON SCRIPT TO RUN\n",
    "\n",
    "# Combine the TF-IDF matrices\n",
    "tfidf_matrix = vstack((tfidf_matrix_low, tfidf_matrix_high))\n",
    "\n",
    "# Create the target variable for reviews_low and reviews_high\n",
    "target_variable_low = np.zeros(tfidf_matrix_low.shape[0])\n",
    "target_variable_high = np.ones(tfidf_matrix_high.shape[0])\n",
    "\n",
    "# Combine the target variables\n",
    "target_variable = np.concatenate((target_variable_low, target_variable_high))\n",
    "\n",
    "# Prepare your data and split into training and test sets\n",
    "X_train, X_test, y_train, y_test = train_test_split(tfidf_matrix, target_variable, test_size=0.2, random_state=42)\n",
    "\n",
    "# Create and train the SVM model\n",
    "svm_model = SVR(kernel='linear')\n",
    "svm_model.fit(X_train, y_train)\n",
    "\n",
    "# Make predictions on the test set\n",
    "predictions = svm_model.predict(X_test)\n",
    "\n",
    "# Evaluate the model\n",
    "mse = mean_squared_error(y_test, predictions)\n",
    "rmse = np.sqrt(mse)\n",
    "print(f\"Root Mean Squared Error (RMSE): {rmse}\")\n"
   ]
  },
  {
   "cell_type": "code",
   "execution_count": 9,
   "metadata": {},
   "outputs": [],
   "source": [
    "original_ratings = [review['rating'] for review in reviews_low]\n",
    "predicted_increases = svm_model.predict(tfidf_matrix_low)\n",
    "updated_ratings = [original + increase for original, increase in zip(original_ratings, predicted_increases)]\n",
    "updated_rate = np.mean(updated_ratings)\n",
    "average_updated_rating = np.mean(predicted_increases)\n"
   ]
  },
  {
   "cell_type": "code",
   "execution_count": 12,
   "metadata": {},
   "outputs": [
    {
     "name": "stdout",
     "output_type": "stream",
     "text": [
      "puntaje promedio actual: {1.4133016627078385}\n",
      "incremento en puntaje promedio: {0.20397236654390022}\n",
      "puntaje promedio modificado: {1.6172740292517387}\n"
     ]
    }
   ],
   "source": [
    "ratings = [review['rating'] for review in reviews_low]\n",
    "average_rating = np.mean(ratings)\n",
    "print(\"puntaje promedio actual:\", {average_rating})\n",
    "print(\"incremento en puntaje promedio:\", {average_updated_rating})\n",
    "print(\"puntaje promedio modificado:\", {updated_rate})"
   ]
  },
  {
   "cell_type": "code",
   "execution_count": null,
   "metadata": {},
   "outputs": [],
   "source": []
  }
 ],
 "metadata": {
  "kernelspec": {
   "display_name": "Python 3",
   "language": "python",
   "name": "python3"
  },
  "language_info": {
   "codemirror_mode": {
    "name": "ipython",
    "version": 3
   },
   "file_extension": ".py",
   "mimetype": "text/x-python",
   "name": "python",
   "nbconvert_exporter": "python",
   "pygments_lexer": "ipython3",
   "version": "3.11.1"
  },
  "orig_nbformat": 4
 },
 "nbformat": 4,
 "nbformat_minor": 2
}
